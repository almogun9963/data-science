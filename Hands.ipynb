{
 "cells": [
  {
   "cell_type": "code",
   "execution_count": 1,
   "metadata": {},
   "outputs": [],
   "source": [
    "import numpy as np\n",
    "import pandas as pd "
   ]
  },
  {
   "cell_type": "code",
   "execution_count": 2,
   "metadata": {},
   "outputs": [],
   "source": [
    "spon1=pd.read_csv(r\"C:\\Users\\Almog\\Desktop\\Unity Data\\Training\\Evyatar Cohen\\Evyatar636771052727603804Spontan.csv\")\n",
    "spon1 = spon1.iloc[701:]"
   ]
  },
  {
   "cell_type": "code",
   "execution_count": 3,
   "metadata": {},
   "outputs": [],
   "source": [
    "spon2=pd.read_csv(r\"C:\\Users\\Almog\\Desktop\\Unity Data\\Training\\Nofar Social_Nuero\\Nofar636759795182793299Spontan.csv\")\n",
    "spon2 = spon2.iloc[701:]"
   ]
  },
  {
   "cell_type": "code",
   "execution_count": 4,
   "metadata": {},
   "outputs": [],
   "source": [
    "spon3=pd.read_csv(r\"C:\\Users\\Almog\\Desktop\\Unity Data\\Training\\Oriya Social_Nuero\\Oriya636759804404113837Spontan.csv\")\n",
    "spon3 = spon3.iloc[701:]"
   ]
  },
  {
   "cell_type": "code",
   "execution_count": 5,
   "metadata": {},
   "outputs": [],
   "source": [
    "spon4=pd.read_csv(r\"C:\\Users\\Almog\\Desktop\\Unity Data\\Training\\Orya Kalmanovitz\\OryaB636771083605535985Spontan.csv\")\n",
    "spon4 = spon4.iloc[701:]"
   ]
  },
  {
   "cell_type": "code",
   "execution_count": 6,
   "metadata": {},
   "outputs": [],
   "source": [
    "spon5=pd.read_csv(r\"C:\\Users\\Almog\\Desktop\\Unity Data\\Training\\Revital Marbel\\Revital636770957038873193Spontan.csv\")\n",
    "spon5 = spon5.iloc[701:]"
   ]
  },
  {
   "cell_type": "code",
   "execution_count": 7,
   "metadata": {},
   "outputs": [],
   "source": [
    "spon6=pd.read_csv(r\"C:\\Users\\Almog\\Desktop\\Unity Data\\Training\\Shahar Terner\\Sachar636771045591258071Spontan.csv\")\n",
    "spon6 = spon6.iloc[701:]"
   ]
  },
  {
   "cell_type": "code",
   "execution_count": 8,
   "metadata": {},
   "outputs": [],
   "source": [
    "spon7=pd.read_csv(r\"C:\\Users\\Almog\\Desktop\\Unity Data\\Training\\Shelly Social_Nuero\\Shelly636759787508979097Spontan.csv\")\n",
    "spon7 = spon7.iloc[701:]"
   ]
  },
  {
   "cell_type": "code",
   "execution_count": 9,
   "metadata": {},
   "outputs": [],
   "source": [
    "spon8=pd.read_csv(r\"C:\\Users\\Almog\\Desktop\\Unity Data\\Training\\Yael Hagai\\Yael636771059544754823Spontan.csv\")\n",
    "spon8 = spon8.iloc[701:]"
   ]
  },
  {
   "cell_type": "code",
   "execution_count": 10,
   "metadata": {},
   "outputs": [],
   "source": [
    "spon9=pd.read_csv(r\"C:\\Users\\Almog\\Desktop\\Unity Data\\Training\\Yoel Raz\\Yoel636760921663075813Spontan.csv\")\n",
    "spon9 = spon9.iloc[701:]"
   ]
  },
  {
   "cell_type": "code",
   "execution_count": 11,
   "metadata": {},
   "outputs": [],
   "source": [
    "# spontan\n",
    "frame1 = [spon1 ,spon2 , spon3, spon4, spon5, spon6, spon7, spon8, spon9]\n",
    "spontan_train = pd.concat(frame1)\n",
    "spontan_train['Type'] = 'spontan'"
   ]
  },
  {
   "cell_type": "code",
   "execution_count": 12,
   "metadata": {},
   "outputs": [],
   "source": [
    "sync1=pd.read_csv(r\"C:\\Users\\Almog\\Desktop\\Unity Data\\Training\\Evyatar Cohen\\Evyatar636771053639929594Sync.csv\")\n",
    "sync1 = sync1.iloc[701:]"
   ]
  },
  {
   "cell_type": "code",
   "execution_count": 13,
   "metadata": {},
   "outputs": [],
   "source": [
    "sync2=pd.read_csv(r\"C:\\Users\\Almog\\Desktop\\Unity Data\\Training\\Nofar Social_Nuero\\Nofar636759797397919664Sync.csv\")\n",
    "sync2 = sync2.iloc[701:]"
   ]
  },
  {
   "cell_type": "code",
   "execution_count": 14,
   "metadata": {},
   "outputs": [],
   "source": [
    "sync3=pd.read_csv(r\"C:\\Users\\Almog\\Desktop\\Unity Data\\Training\\Oriya Social_Nuero\\Oriya636759806131350399Sync.csv\")\n",
    "sync3 = sync3.iloc[701:]"
   ]
  },
  {
   "cell_type": "code",
   "execution_count": 15,
   "metadata": {},
   "outputs": [],
   "source": [
    "sync4=pd.read_csv(r\"C:\\Users\\Almog\\Desktop\\Unity Data\\Training\\Orya Kalmanovitz\\OryaB636771084494502229Sync.csv\")\n",
    "sync4 = sync4.iloc[701:]"
   ]
  },
  {
   "cell_type": "code",
   "execution_count": 16,
   "metadata": {},
   "outputs": [],
   "source": [
    "sync5=pd.read_csv(r\"C:\\Users\\Almog\\Desktop\\Unity Data\\Training\\Revital Marbel\\Revital636770957894370062Sync.csv\")\n",
    "sync5 = sync5.iloc[701:]"
   ]
  },
  {
   "cell_type": "code",
   "execution_count": 17,
   "metadata": {},
   "outputs": [],
   "source": [
    "sync6=pd.read_csv(r\"C:\\Users\\Almog\\Desktop\\Unity Data\\Training\\Shahar Terner\\Sachar636771046527112972Sync.csv\")\n",
    "sync6 = sync6.iloc[701:]"
   ]
  },
  {
   "cell_type": "code",
   "execution_count": 18,
   "metadata": {},
   "outputs": [],
   "source": [
    "sync7=pd.read_csv(r\"C:\\Users\\Almog\\Desktop\\Unity Data\\Training\\Shelly Social_Nuero\\Shelly636759789526313406Sync.csv\")\n",
    "sync7 = sync7.iloc[701:]"
   ]
  },
  {
   "cell_type": "code",
   "execution_count": 19,
   "metadata": {},
   "outputs": [],
   "source": [
    "sync8=pd.read_csv(r\"C:\\Users\\Almog\\Desktop\\Unity Data\\Training\\Yael Hagai\\Yael636771060699529085Sync.csv\")\n",
    "sync8 = sync8.iloc[701:]"
   ]
  },
  {
   "cell_type": "code",
   "execution_count": 20,
   "metadata": {},
   "outputs": [],
   "source": [
    "sync9=pd.read_csv(r\"C:\\Users\\Almog\\Desktop\\Unity Data\\Training\\Yoel Raz\\Yoel636760923490742912Sync.csv\")\n",
    "sync9 = sync9.iloc[701:]"
   ]
  },
  {
   "cell_type": "code",
   "execution_count": 21,
   "metadata": {},
   "outputs": [],
   "source": [
    "# sync\n",
    "frame2 = [sync1 ,sync2 , sync3, sync4, sync5, sync6, sync7, sync8, sync9]\n",
    "sync_train = pd.concat(frame2)\n",
    "sync_train['Type'] = 'sync'"
   ]
  },
  {
   "cell_type": "code",
   "execution_count": 22,
   "metadata": {},
   "outputs": [],
   "source": [
    "r_hand=pd.read_csv(r\"C:\\Users\\Almog\\Desktop\\Unity Data\\HandRight.csv\")\n",
    "r_hand = r_hand.iloc[701:]"
   ]
  },
  {
   "cell_type": "code",
   "execution_count": 23,
   "metadata": {},
   "outputs": [],
   "source": [
    "alone1=pd.read_csv(r\"C:\\Users\\Almog\\Desktop\\Unity Data\\Training\\Evyatar Cohen\\Evyatar636771054555711409Alone.csv\")\n",
    "alone1 = alone1.iloc[701:]\n",
    "frames =[alone1 , r_hand]\n",
    "alone1 = pd.concat(frames)"
   ]
  },
  {
   "cell_type": "code",
   "execution_count": 24,
   "metadata": {},
   "outputs": [],
   "source": [
    "alone2=pd.read_csv(r\"C:\\Users\\Almog\\Desktop\\Unity Data\\Training\\Nofar Social_Nuero\\Nofar636759796290435160Alone.csv\")\n",
    "alone2 = alone2.iloc[701:]\n",
    "frames =[alone2 , r_hand]\n",
    "alone2 = pd.concat(frames)"
   ]
  },
  {
   "cell_type": "code",
   "execution_count": 25,
   "metadata": {},
   "outputs": [],
   "source": [
    "alone3=pd.read_csv(r\"C:\\Users\\Almog\\Desktop\\Unity Data\\Training\\Oriya Social_Nuero\\Oriya636759805268396661Alone.csv\")\n",
    "alone3 = alone3.iloc[701:]\n",
    "frames =[alone3 , r_hand]\n",
    "alone3 = pd.concat(frames)"
   ]
  },
  {
   "cell_type": "code",
   "execution_count": 26,
   "metadata": {},
   "outputs": [],
   "source": [
    "alone4=pd.read_csv(r\"C:\\Users\\Almog\\Desktop\\Unity Data\\Training\\Orya Kalmanovitz\\OryaB636771082736601528Alone.csv\")\n",
    "alone4 = alone4.iloc[701:]\n",
    "frames =[alone4 , r_hand]\n",
    "alone4 = pd.concat(frames)"
   ]
  },
  {
   "cell_type": "code",
   "execution_count": 27,
   "metadata": {},
   "outputs": [],
   "source": [
    "alone5=pd.read_csv(r\"C:\\Users\\Almog\\Desktop\\Unity Data\\Training\\Revital Marbel\\Revital636770955999435879Alone.csv\")\n",
    "alone5 = alone5.iloc[701:]\n",
    "frames =[alone5 , r_hand]\n",
    "alone5 = pd.concat(frames)"
   ]
  },
  {
   "cell_type": "code",
   "execution_count": 28,
   "metadata": {},
   "outputs": [],
   "source": [
    "alone6=pd.read_csv(r\"C:\\Users\\Almog\\Desktop\\Unity Data\\Training\\Shahar Terner\\Sachar636771047408504303Alone.csv\")\n",
    "alone6 = alone6.iloc[701:]\n",
    "frames =[alone6 , r_hand]\n",
    "alone6 = pd.concat(frames)"
   ]
  },
  {
   "cell_type": "code",
   "execution_count": 29,
   "metadata": {},
   "outputs": [],
   "source": [
    "alone7=pd.read_csv(r\"C:\\Users\\Almog\\Desktop\\Unity Data\\Training\\Shelly Social_Nuero\\Shelly636759788383205274Alone.csv\")\n",
    "alone7 = alone7.iloc[701:]\n",
    "frames =[alone7 , r_hand]\n",
    "alone7 = pd.concat(frames)"
   ]
  },
  {
   "cell_type": "code",
   "execution_count": 30,
   "metadata": {},
   "outputs": [],
   "source": [
    "alone8=pd.read_csv(r\"C:\\Users\\Almog\\Desktop\\Unity Data\\Training\\Yael Hagai\\Yael636771061659067649Alone.csv\")\n",
    "alone8 = alone8.iloc[701:]\n",
    "frames =[alone8 , r_hand]\n",
    "alone8 = pd.concat(frames)"
   ]
  },
  {
   "cell_type": "code",
   "execution_count": 31,
   "metadata": {},
   "outputs": [],
   "source": [
    "alone9=pd.read_csv(r\"C:\\Users\\Almog\\Desktop\\Unity Data\\Training\\Yoel Raz\\Yoel636760922573364655Alone.csv\")\n",
    "alone9 = alone9.iloc[701:]\n",
    "frames =[alone9 , r_hand]\n",
    "alone9 = pd.concat(frames)"
   ]
  },
  {
   "cell_type": "code",
   "execution_count": 32,
   "metadata": {},
   "outputs": [],
   "source": [
    "# alone\n",
    "frame3 = [alone1 ,alone2 , alone3, alone4, alone5, alone6, alone7, alone8, alone9]\n",
    "alone_train = pd.concat(frame3)\n",
    "alone_train['Type'] = 'alone'"
   ]
  },
  {
   "cell_type": "code",
   "execution_count": 33,
   "metadata": {},
   "outputs": [
    {
     "data": {
      "text/html": [
       "<div>\n",
       "<style scoped>\n",
       "    .dataframe tbody tr th:only-of-type {\n",
       "        vertical-align: middle;\n",
       "    }\n",
       "\n",
       "    .dataframe tbody tr th {\n",
       "        vertical-align: top;\n",
       "    }\n",
       "\n",
       "    .dataframe thead th {\n",
       "        text-align: right;\n",
       "    }\n",
       "</style>\n",
       "<table border=\"1\" class=\"dataframe\">\n",
       "  <thead>\n",
       "    <tr style=\"text-align: right;\">\n",
       "      <th></th>\n",
       "      <th>Time</th>\n",
       "      <th>Frame ID</th>\n",
       "      <th>Hand Type</th>\n",
       "      <th># hands</th>\n",
       "      <th>Position X</th>\n",
       "      <th>Position Y</th>\n",
       "      <th>Position Z</th>\n",
       "      <th>Velocity X</th>\n",
       "      <th>Velocity Y</th>\n",
       "      <th>Velocity Z</th>\n",
       "      <th>...</th>\n",
       "      <th>Wrist Pos X</th>\n",
       "      <th>Wrist Pos Y</th>\n",
       "      <th>Wrist Pos Z</th>\n",
       "      <th>Elbow pos X</th>\n",
       "      <th>Elbow Pos Y</th>\n",
       "      <th>Elbow Pos Z</th>\n",
       "      <th>Grab Strenth</th>\n",
       "      <th>Grab Angle</th>\n",
       "      <th>Pinch Strength</th>\n",
       "      <th>Type</th>\n",
       "    </tr>\n",
       "  </thead>\n",
       "  <tbody>\n",
       "    <tr>\n",
       "      <th>701</th>\n",
       "      <td>341.7967</td>\n",
       "      <td>129224</td>\n",
       "      <td>left</td>\n",
       "      <td>2</td>\n",
       "      <td>-81.07576</td>\n",
       "      <td>188.0205</td>\n",
       "      <td>-6.599422</td>\n",
       "      <td>-3.531912</td>\n",
       "      <td>-34.79406</td>\n",
       "      <td>-51.33676</td>\n",
       "      <td>...</td>\n",
       "      <td>-139.5122</td>\n",
       "      <td>148.6714</td>\n",
       "      <td>-0.907297</td>\n",
       "      <td>-302.5069</td>\n",
       "      <td>-40.67589</td>\n",
       "      <td>29.01158</td>\n",
       "      <td>0.0</td>\n",
       "      <td>0.000000</td>\n",
       "      <td>0.0</td>\n",
       "      <td>spontan</td>\n",
       "    </tr>\n",
       "    <tr>\n",
       "      <th>702</th>\n",
       "      <td>341.8133</td>\n",
       "      <td>129226</td>\n",
       "      <td>right</td>\n",
       "      <td>2</td>\n",
       "      <td>165.59600</td>\n",
       "      <td>216.3511</td>\n",
       "      <td>-19.954480</td>\n",
       "      <td>28.744730</td>\n",
       "      <td>22.92136</td>\n",
       "      <td>-28.63050</td>\n",
       "      <td>...</td>\n",
       "      <td>196.1415</td>\n",
       "      <td>174.7783</td>\n",
       "      <td>28.344310</td>\n",
       "      <td>278.0301</td>\n",
       "      <td>-25.50721</td>\n",
       "      <td>156.77630</td>\n",
       "      <td>0.0</td>\n",
       "      <td>0.112178</td>\n",
       "      <td>0.0</td>\n",
       "      <td>spontan</td>\n",
       "    </tr>\n",
       "    <tr>\n",
       "      <th>703</th>\n",
       "      <td>341.8133</td>\n",
       "      <td>129226</td>\n",
       "      <td>left</td>\n",
       "      <td>2</td>\n",
       "      <td>-81.06532</td>\n",
       "      <td>187.2831</td>\n",
       "      <td>-7.509534</td>\n",
       "      <td>-5.439296</td>\n",
       "      <td>-35.47788</td>\n",
       "      <td>-53.12909</td>\n",
       "      <td>...</td>\n",
       "      <td>-139.5220</td>\n",
       "      <td>148.0659</td>\n",
       "      <td>-1.579993</td>\n",
       "      <td>-299.5904</td>\n",
       "      <td>-43.17277</td>\n",
       "      <td>31.89713</td>\n",
       "      <td>0.0</td>\n",
       "      <td>0.000000</td>\n",
       "      <td>0.0</td>\n",
       "      <td>spontan</td>\n",
       "    </tr>\n",
       "    <tr>\n",
       "      <th>704</th>\n",
       "      <td>341.8307</td>\n",
       "      <td>129228</td>\n",
       "      <td>right</td>\n",
       "      <td>2</td>\n",
       "      <td>166.11170</td>\n",
       "      <td>216.7622</td>\n",
       "      <td>-20.387300</td>\n",
       "      <td>29.430710</td>\n",
       "      <td>24.04314</td>\n",
       "      <td>-25.71594</td>\n",
       "      <td>...</td>\n",
       "      <td>196.6401</td>\n",
       "      <td>175.1746</td>\n",
       "      <td>27.942440</td>\n",
       "      <td>279.6292</td>\n",
       "      <td>-23.55376</td>\n",
       "      <td>158.07560</td>\n",
       "      <td>0.0</td>\n",
       "      <td>0.136341</td>\n",
       "      <td>0.0</td>\n",
       "      <td>spontan</td>\n",
       "    </tr>\n",
       "    <tr>\n",
       "      <th>705</th>\n",
       "      <td>341.8307</td>\n",
       "      <td>129228</td>\n",
       "      <td>left</td>\n",
       "      <td>2</td>\n",
       "      <td>-81.30278</td>\n",
       "      <td>186.7463</td>\n",
       "      <td>-8.332627</td>\n",
       "      <td>-14.389670</td>\n",
       "      <td>-31.82765</td>\n",
       "      <td>-44.94197</td>\n",
       "      <td>...</td>\n",
       "      <td>-139.3322</td>\n",
       "      <td>146.9565</td>\n",
       "      <td>-2.184220</td>\n",
       "      <td>-296.7033</td>\n",
       "      <td>-45.54542</td>\n",
       "      <td>36.44461</td>\n",
       "      <td>0.0</td>\n",
       "      <td>0.000000</td>\n",
       "      <td>0.0</td>\n",
       "      <td>spontan</td>\n",
       "    </tr>\n",
       "  </tbody>\n",
       "</table>\n",
       "<p>5 rows × 23 columns</p>\n",
       "</div>"
      ],
      "text/plain": [
       "         Time   Frame ID  Hand Type   # hands   Position X   Position Y  \\\n",
       "701  341.7967     129224       left         2    -81.07576     188.0205   \n",
       "702  341.8133     129226      right         2    165.59600     216.3511   \n",
       "703  341.8133     129226       left         2    -81.06532     187.2831   \n",
       "704  341.8307     129228      right         2    166.11170     216.7622   \n",
       "705  341.8307     129228       left         2    -81.30278     186.7463   \n",
       "\n",
       "      Position Z   Velocity X   Velocity Y   Velocity Z   ...     \\\n",
       "701    -6.599422    -3.531912    -34.79406    -51.33676   ...      \n",
       "702   -19.954480    28.744730     22.92136    -28.63050   ...      \n",
       "703    -7.509534    -5.439296    -35.47788    -53.12909   ...      \n",
       "704   -20.387300    29.430710     24.04314    -25.71594   ...      \n",
       "705    -8.332627   -14.389670    -31.82765    -44.94197   ...      \n",
       "\n",
       "      Wrist Pos X   Wrist Pos Y   Wrist Pos Z   Elbow pos X   Elbow Pos Y  \\\n",
       "701     -139.5122      148.6714     -0.907297     -302.5069     -40.67589   \n",
       "702      196.1415      174.7783     28.344310      278.0301     -25.50721   \n",
       "703     -139.5220      148.0659     -1.579993     -299.5904     -43.17277   \n",
       "704      196.6401      175.1746     27.942440      279.6292     -23.55376   \n",
       "705     -139.3322      146.9565     -2.184220     -296.7033     -45.54542   \n",
       "\n",
       "      Elbow Pos Z   Grab Strenth   Grab Angle   Pinch Strength     Type  \n",
       "701      29.01158            0.0     0.000000              0.0  spontan  \n",
       "702     156.77630            0.0     0.112178              0.0  spontan  \n",
       "703      31.89713            0.0     0.000000              0.0  spontan  \n",
       "704     158.07560            0.0     0.136341              0.0  spontan  \n",
       "705      36.44461            0.0     0.000000              0.0  spontan  \n",
       "\n",
       "[5 rows x 23 columns]"
      ]
     },
     "execution_count": 33,
     "metadata": {},
     "output_type": "execute_result"
    }
   ],
   "source": [
    "frames =[spontan_train , sync_train ,alone_train]\n",
    "train= pd.concat(frames)\n",
    "train.head()"
   ]
  },
  {
   "cell_type": "code",
   "execution_count": 34,
   "metadata": {},
   "outputs": [
    {
     "data": {
      "text/plain": [
       "Time                  0\n",
       " Frame ID             0\n",
       " Hand Type            0\n",
       " # hands              0\n",
       " Position X           0\n",
       " Position Y           0\n",
       " Position Z           0\n",
       " Velocity X           0\n",
       " Velocity Y           0\n",
       " Velocity Z           0\n",
       " Pitch                0\n",
       " Roll                 0\n",
       " Yaw                  0\n",
       " Wrist Pos X       3456\n",
       " Wrist Pos Y       3456\n",
       " Wrist Pos Z       3456\n",
       " Elbow pos X       3456\n",
       " Elbow Pos Y       3456\n",
       " Elbow Pos Z       3456\n",
       " Grab Strenth         0\n",
       " Grab Angle           0\n",
       " Pinch Strength       0\n",
       "Type                  0\n",
       "dtype: int64"
      ]
     },
     "execution_count": 34,
     "metadata": {},
     "output_type": "execute_result"
    }
   ],
   "source": [
    "# checking the empty spots \n",
    "train.isna().sum()"
   ]
  },
  {
   "cell_type": "code",
   "execution_count": 35,
   "metadata": {},
   "outputs": [],
   "source": [
    "# ignoting the empty spots\n",
    "train.dropna(inplace=True)"
   ]
  },
  {
   "cell_type": "code",
   "execution_count": 36,
   "metadata": {},
   "outputs": [],
   "source": [
    "x_train = train.drop(['Type',' Frame ID','Time',' Hand Type'], axis = 1)\n",
    "y_train = train['Type']"
   ]
  },
  {
   "cell_type": "code",
   "execution_count": 37,
   "metadata": {},
   "outputs": [],
   "source": [
    "spon_t1=pd.read_csv(r\"C:\\Users\\Almog\\Desktop\\Unity Data\\Validation\\Itiel Lab\\Itiel636770940701219076Spontan.csv\")\n",
    "spon_t1 = spon_t1.iloc[701:]"
   ]
  },
  {
   "cell_type": "code",
   "execution_count": 38,
   "metadata": {},
   "outputs": [],
   "source": [
    "spon_t2=pd.read_csv(r\"C:\\Users\\Almog\\Desktop\\Unity Data\\Validation\\Mor SHerman\\Mor636771064635567065Spontan.csv\")\n",
    "spon_t2 = spon_t2.iloc[701:]"
   ]
  },
  {
   "cell_type": "code",
   "execution_count": 39,
   "metadata": {},
   "outputs": [],
   "source": [
    "spon_t3=pd.read_csv(r\"C:\\Users\\Almog\\Desktop\\Unity Data\\Validation\\Oded Medina\\Oded636754670490266956Spontan.csv\")\n",
    "spon_t3 = spon_t3.iloc[701:]"
   ]
  },
  {
   "cell_type": "code",
   "execution_count": 40,
   "metadata": {},
   "outputs": [],
   "source": [
    "# spontan\n",
    "frame_t1 = [spon_t1 ,spon_t2 , spon_t3]\n",
    "spontan_test = pd.concat(frame_t1)\n",
    "spontan_test['Type'] = 'spontan'"
   ]
  },
  {
   "cell_type": "code",
   "execution_count": 41,
   "metadata": {},
   "outputs": [],
   "source": [
    "sync_t1=pd.read_csv(r\"C:\\Users\\Almog\\Desktop\\Unity Data\\Validation\\Itiel Lab\\Itiel636770941638547912Sync.csv\")\n",
    "sync_t1 = sync_t1.iloc[701:]"
   ]
  },
  {
   "cell_type": "code",
   "execution_count": 42,
   "metadata": {},
   "outputs": [],
   "source": [
    "sync_t2=pd.read_csv(r\"C:\\Users\\Almog\\Desktop\\Unity Data\\Validation\\Mor SHerman\\Mor636771065531910215Sync.csv\")\n",
    "sync_t2 = sync_t2.iloc[701:]"
   ]
  },
  {
   "cell_type": "code",
   "execution_count": 43,
   "metadata": {},
   "outputs": [],
   "source": [
    "sync_t3=pd.read_csv(r\"C:\\Users\\Almog\\Desktop\\Unity Data\\Validation\\Oded Medina\\Oded636754671560850581Sync.csv\")\n",
    "sync_t3 = sync_t3.iloc[701:]"
   ]
  },
  {
   "cell_type": "code",
   "execution_count": 44,
   "metadata": {},
   "outputs": [],
   "source": [
    "# sync\n",
    "frame_t2 = [sync_t1 ,sync_t2 , sync_t3]\n",
    "sync_test = pd.concat(frame_t2)\n",
    "sync_test['Type'] = 'sync'"
   ]
  },
  {
   "cell_type": "code",
   "execution_count": 45,
   "metadata": {},
   "outputs": [],
   "source": [
    "alone_t1=pd.read_csv(r\"C:\\Users\\Almog\\Desktop\\Unity Data\\Validation\\Itiel Lab\\Itiel636770942529041679Alone.csv\")\n",
    "alone_t1 = alone_t1.iloc[701:]\n",
    "frames =[alone_t1 , r_hand]\n",
    "alone_t1 = pd.concat(frames)"
   ]
  },
  {
   "cell_type": "code",
   "execution_count": 46,
   "metadata": {},
   "outputs": [],
   "source": [
    "alone_t2=pd.read_csv(r\"C:\\Users\\Almog\\Desktop\\Unity Data\\Validation\\Mor SHerman\\Mor636771066407626524Alone.csv\")\n",
    "alone_t2 = alone_t2.iloc[701:]\n",
    "frames =[alone_t2 , r_hand]\n",
    "alone_t2 = pd.concat(frames)"
   ]
  },
  {
   "cell_type": "code",
   "execution_count": 47,
   "metadata": {},
   "outputs": [],
   "source": [
    "alone_t3=pd.read_csv(r\"C:\\Users\\Almog\\Desktop\\Unity Data\\Validation\\Oded Medina\\Oded636754669540564461Alone.csv\")\n",
    "alone_t3 = alone_t3.iloc[701:]\n",
    "frames =[alone_t3 , r_hand]\n",
    "alone_t3 = pd.concat(frames)"
   ]
  },
  {
   "cell_type": "code",
   "execution_count": 48,
   "metadata": {},
   "outputs": [],
   "source": [
    "# alone\n",
    "frame_t3 = [alone_t1 ,alone_t2 , alone_t3]\n",
    "alone_test = pd.concat(frame_t2)\n",
    "alone_test['Type'] = 'alone'"
   ]
  },
  {
   "cell_type": "code",
   "execution_count": 49,
   "metadata": {},
   "outputs": [
    {
     "data": {
      "text/html": [
       "<div>\n",
       "<style scoped>\n",
       "    .dataframe tbody tr th:only-of-type {\n",
       "        vertical-align: middle;\n",
       "    }\n",
       "\n",
       "    .dataframe tbody tr th {\n",
       "        vertical-align: top;\n",
       "    }\n",
       "\n",
       "    .dataframe thead th {\n",
       "        text-align: right;\n",
       "    }\n",
       "</style>\n",
       "<table border=\"1\" class=\"dataframe\">\n",
       "  <thead>\n",
       "    <tr style=\"text-align: right;\">\n",
       "      <th></th>\n",
       "      <th>Time</th>\n",
       "      <th>Frame ID</th>\n",
       "      <th>Hand Type</th>\n",
       "      <th># hands</th>\n",
       "      <th>Position X</th>\n",
       "      <th>Position Y</th>\n",
       "      <th>Position Z</th>\n",
       "      <th>Velocity X</th>\n",
       "      <th>Velocity Y</th>\n",
       "      <th>Velocity Z</th>\n",
       "      <th>...</th>\n",
       "      <th>Wrist Pos X</th>\n",
       "      <th>Wrist Pos Y</th>\n",
       "      <th>Wrist Pos Z</th>\n",
       "      <th>Elbow pos X</th>\n",
       "      <th>Elbow Pos Y</th>\n",
       "      <th>Elbow Pos Z</th>\n",
       "      <th>Grab Strenth</th>\n",
       "      <th>Grab Angle</th>\n",
       "      <th>Pinch Strength</th>\n",
       "      <th>Type</th>\n",
       "    </tr>\n",
       "  </thead>\n",
       "  <tbody>\n",
       "    <tr>\n",
       "      <th>701</th>\n",
       "      <td>778.7908</td>\n",
       "      <td>91071</td>\n",
       "      <td>right</td>\n",
       "      <td>2</td>\n",
       "      <td>154.0905</td>\n",
       "      <td>124.2288</td>\n",
       "      <td>-14.09711</td>\n",
       "      <td>-72.357730</td>\n",
       "      <td>-106.706900</td>\n",
       "      <td>-39.55815</td>\n",
       "      <td>...</td>\n",
       "      <td>191.0542</td>\n",
       "      <td>110.6024</td>\n",
       "      <td>44.65841</td>\n",
       "      <td>374.9221</td>\n",
       "      <td>6.802368</td>\n",
       "      <td>181.0962</td>\n",
       "      <td>0.0</td>\n",
       "      <td>0.227929</td>\n",
       "      <td>0.0</td>\n",
       "      <td>spontan</td>\n",
       "    </tr>\n",
       "    <tr>\n",
       "      <th>702</th>\n",
       "      <td>778.7908</td>\n",
       "      <td>91071</td>\n",
       "      <td>left</td>\n",
       "      <td>2</td>\n",
       "      <td>-159.0957</td>\n",
       "      <td>208.6001</td>\n",
       "      <td>34.44760</td>\n",
       "      <td>-153.465600</td>\n",
       "      <td>-19.233690</td>\n",
       "      <td>142.59690</td>\n",
       "      <td>...</td>\n",
       "      <td>-216.1889</td>\n",
       "      <td>176.5245</td>\n",
       "      <td>61.34698</td>\n",
       "      <td>-430.1416</td>\n",
       "      <td>101.006400</td>\n",
       "      <td>169.5985</td>\n",
       "      <td>0.0</td>\n",
       "      <td>0.486268</td>\n",
       "      <td>0.0</td>\n",
       "      <td>spontan</td>\n",
       "    </tr>\n",
       "    <tr>\n",
       "      <th>703</th>\n",
       "      <td>778.8074</td>\n",
       "      <td>91072</td>\n",
       "      <td>right</td>\n",
       "      <td>2</td>\n",
       "      <td>153.6980</td>\n",
       "      <td>123.7907</td>\n",
       "      <td>-14.37217</td>\n",
       "      <td>-45.395320</td>\n",
       "      <td>-50.656590</td>\n",
       "      <td>-31.80605</td>\n",
       "      <td>...</td>\n",
       "      <td>189.9664</td>\n",
       "      <td>109.4695</td>\n",
       "      <td>44.68486</td>\n",
       "      <td>371.8003</td>\n",
       "      <td>6.902730</td>\n",
       "      <td>184.7336</td>\n",
       "      <td>0.0</td>\n",
       "      <td>0.237632</td>\n",
       "      <td>0.0</td>\n",
       "      <td>spontan</td>\n",
       "    </tr>\n",
       "    <tr>\n",
       "      <th>704</th>\n",
       "      <td>778.8074</td>\n",
       "      <td>91072</td>\n",
       "      <td>left</td>\n",
       "      <td>2</td>\n",
       "      <td>-160.3589</td>\n",
       "      <td>208.8600</td>\n",
       "      <td>35.48700</td>\n",
       "      <td>-146.071100</td>\n",
       "      <td>30.041980</td>\n",
       "      <td>120.19010</td>\n",
       "      <td>...</td>\n",
       "      <td>-217.1779</td>\n",
       "      <td>176.1352</td>\n",
       "      <td>61.94592</td>\n",
       "      <td>-429.8824</td>\n",
       "      <td>108.710800</td>\n",
       "      <td>177.7386</td>\n",
       "      <td>0.0</td>\n",
       "      <td>0.509913</td>\n",
       "      <td>0.0</td>\n",
       "      <td>spontan</td>\n",
       "    </tr>\n",
       "    <tr>\n",
       "      <th>705</th>\n",
       "      <td>778.8237</td>\n",
       "      <td>91074</td>\n",
       "      <td>right</td>\n",
       "      <td>2</td>\n",
       "      <td>153.6534</td>\n",
       "      <td>123.7046</td>\n",
       "      <td>-14.96150</td>\n",
       "      <td>6.597458</td>\n",
       "      <td>6.167001</td>\n",
       "      <td>-33.22655</td>\n",
       "      <td>...</td>\n",
       "      <td>188.8850</td>\n",
       "      <td>108.4054</td>\n",
       "      <td>44.56445</td>\n",
       "      <td>363.2791</td>\n",
       "      <td>9.282867</td>\n",
       "      <td>196.0854</td>\n",
       "      <td>0.0</td>\n",
       "      <td>0.263611</td>\n",
       "      <td>0.0</td>\n",
       "      <td>spontan</td>\n",
       "    </tr>\n",
       "  </tbody>\n",
       "</table>\n",
       "<p>5 rows × 23 columns</p>\n",
       "</div>"
      ],
      "text/plain": [
       "         Time   Frame ID  Hand Type   # hands   Position X   Position Y  \\\n",
       "701  778.7908      91071      right         2     154.0905     124.2288   \n",
       "702  778.7908      91071       left         2    -159.0957     208.6001   \n",
       "703  778.8074      91072      right         2     153.6980     123.7907   \n",
       "704  778.8074      91072       left         2    -160.3589     208.8600   \n",
       "705  778.8237      91074      right         2     153.6534     123.7046   \n",
       "\n",
       "      Position Z   Velocity X   Velocity Y   Velocity Z   ...     \\\n",
       "701    -14.09711   -72.357730  -106.706900    -39.55815   ...      \n",
       "702     34.44760  -153.465600   -19.233690    142.59690   ...      \n",
       "703    -14.37217   -45.395320   -50.656590    -31.80605   ...      \n",
       "704     35.48700  -146.071100    30.041980    120.19010   ...      \n",
       "705    -14.96150     6.597458     6.167001    -33.22655   ...      \n",
       "\n",
       "      Wrist Pos X   Wrist Pos Y   Wrist Pos Z   Elbow pos X   Elbow Pos Y  \\\n",
       "701      191.0542      110.6024      44.65841      374.9221      6.802368   \n",
       "702     -216.1889      176.5245      61.34698     -430.1416    101.006400   \n",
       "703      189.9664      109.4695      44.68486      371.8003      6.902730   \n",
       "704     -217.1779      176.1352      61.94592     -429.8824    108.710800   \n",
       "705      188.8850      108.4054      44.56445      363.2791      9.282867   \n",
       "\n",
       "      Elbow Pos Z   Grab Strenth   Grab Angle   Pinch Strength     Type  \n",
       "701      181.0962            0.0     0.227929              0.0  spontan  \n",
       "702      169.5985            0.0     0.486268              0.0  spontan  \n",
       "703      184.7336            0.0     0.237632              0.0  spontan  \n",
       "704      177.7386            0.0     0.509913              0.0  spontan  \n",
       "705      196.0854            0.0     0.263611              0.0  spontan  \n",
       "\n",
       "[5 rows x 23 columns]"
      ]
     },
     "execution_count": 49,
     "metadata": {},
     "output_type": "execute_result"
    }
   ],
   "source": [
    "frames =[spontan_test , sync_test, alone_test]\n",
    "test= pd.concat(frames)\n",
    "test.head()"
   ]
  },
  {
   "cell_type": "code",
   "execution_count": 50,
   "metadata": {},
   "outputs": [
    {
     "data": {
      "text/plain": [
       "Time               0\n",
       " Frame ID          0\n",
       " Hand Type         0\n",
       " # hands           0\n",
       " Position X        0\n",
       " Position Y        0\n",
       " Position Z        0\n",
       " Velocity X        0\n",
       " Velocity Y        0\n",
       " Velocity Z        0\n",
       " Pitch             0\n",
       " Roll              0\n",
       " Yaw               0\n",
       " Wrist Pos X       0\n",
       " Wrist Pos Y       0\n",
       " Wrist Pos Z       0\n",
       " Elbow pos X       0\n",
       " Elbow Pos Y       0\n",
       " Elbow Pos Z       0\n",
       " Grab Strenth      0\n",
       " Grab Angle        0\n",
       " Pinch Strength    0\n",
       "Type               0\n",
       "dtype: int64"
      ]
     },
     "execution_count": 50,
     "metadata": {},
     "output_type": "execute_result"
    }
   ],
   "source": [
    "# checking the empty spots \n",
    "test.isna().sum()"
   ]
  },
  {
   "cell_type": "code",
   "execution_count": 51,
   "metadata": {},
   "outputs": [],
   "source": [
    "x_test = test.drop(['Type',' Frame ID','Time',' Hand Type'], axis = 1)\n",
    "y_test = test['Type']"
   ]
  },
  {
   "cell_type": "code",
   "execution_count": 52,
   "metadata": {},
   "outputs": [],
   "source": [
    "#PCA"
   ]
  },
  {
   "cell_type": "code",
   "execution_count": 71,
   "metadata": {},
   "outputs": [
    {
     "data": {
      "text/plain": [
       "<matplotlib.legend.Legend at 0x1c280972b00>"
      ]
     },
     "execution_count": 71,
     "metadata": {},
     "output_type": "execute_result"
    },
    {
     "data": {
      "image/png": "[encoded data removed]",
      "text/plain": [
       "<Figure size 720x720 with 1 Axes>"
      ]
     },
     "metadata": {
      "needs_background": "light"
     },
     "output_type": "display_data"
    }
   ],
   "source": [
    "#Using elbow-plot variance/dimensions\n",
    "from sklearn.decomposition import PCA\n",
    "import matplotlib.pyplot as plt\n",
    "pca = PCA()\n",
    "pca.fit(x_train)\n",
    "cumsum = np.cumsum(pca.explained_variance_ratio_)*100\n",
    "d = [n for n in range(len(cumsum))]\n",
    "plt.figure(figsize=(10, 10))\n",
    "plt.plot(d,cumsum, color = 'red',label='cumulative explained variance')\n",
    "plt.title('Cumulative Explained Variance as a Function of the Number of Components')\n",
    "plt.ylabel('Cumulative Explained variance')\n",
    "plt.xlabel('Principal components')\n",
    "plt.axhline(y = 95, color='k', linestyle='--', label = '95% Explained Variance')\n",
    "plt.legend(loc='best')"
   ]
  },
  {
   "cell_type": "code",
   "execution_count": 54,
   "metadata": {},
   "outputs": [],
   "source": [
    "#Logistic Regression"
   ]
  },
  {
   "cell_type": "code",
   "execution_count": 55,
   "metadata": {},
   "outputs": [
    {
     "data": {
      "text/plain": [
       "LogisticRegression(C=1.0, class_weight=None, dual=False, fit_intercept=True,\n",
       "          intercept_scaling=1, max_iter=100, multi_class='ovr', n_jobs=1,\n",
       "          penalty='l2', random_state=None, solver='liblinear', tol=0.0001,\n",
       "          verbose=0, warm_start=False)"
      ]
     },
     "execution_count": 55,
     "metadata": {},
     "output_type": "execute_result"
    }
   ],
   "source": [
    "from sklearn.linear_model import LogisticRegression\n",
    "logreg = LogisticRegression()\n",
    "logreg.fit(x_train, y_train)"
   ]
  },
  {
   "cell_type": "code",
   "execution_count": 56,
   "metadata": {},
   "outputs": [
    {
     "name": "stdout",
     "output_type": "stream",
     "text": [
      "['spontan' 'sync' 'spontan' ... 'spontan' 'sync' 'spontan']\n"
     ]
    }
   ],
   "source": [
    "# predicting based on the test \n",
    "y_pred = logreg.predict(x_test)\n",
    "print (y_pred)"
   ]
  },
  {
   "cell_type": "code",
   "execution_count": 57,
   "metadata": {},
   "outputs": [
    {
     "name": "stdout",
     "output_type": "stream",
     "text": [
      "50.57863501483679 %\n"
     ]
    }
   ],
   "source": [
    "# checking the percentage of success \n",
    "from sklearn import metrics\n",
    "print(metrics.accuracy_score(y_test, y_pred)*100,'%')"
   ]
  },
  {
   "cell_type": "code",
   "execution_count": 58,
   "metadata": {},
   "outputs": [],
   "source": [
    "#Navie bayes"
   ]
  },
  {
   "cell_type": "code",
   "execution_count": 59,
   "metadata": {},
   "outputs": [],
   "source": [
    "from sklearn.naive_bayes import GaussianNB\n",
    "gnb = GaussianNB()"
   ]
  },
  {
   "cell_type": "code",
   "execution_count": 60,
   "metadata": {},
   "outputs": [
    {
     "data": {
      "text/plain": [
       "GaussianNB(priors=None)"
      ]
     },
     "execution_count": 60,
     "metadata": {},
     "output_type": "execute_result"
    }
   ],
   "source": [
    "# predicting based on the test \n",
    "gnb.fit(x_train,y_train)"
   ]
  },
  {
   "cell_type": "code",
   "execution_count": 61,
   "metadata": {},
   "outputs": [
    {
     "name": "stdout",
     "output_type": "stream",
     "text": [
      "46.8018463567425 %\n"
     ]
    }
   ],
   "source": [
    "# checking the percentage of success\n",
    "print(gnb.score(x_test,y_test)*100,'%')"
   ]
  },
  {
   "cell_type": "code",
   "execution_count": 62,
   "metadata": {},
   "outputs": [],
   "source": [
    "#Adaboost"
   ]
  },
  {
   "cell_type": "code",
   "execution_count": 63,
   "metadata": {},
   "outputs": [
    {
     "name": "stderr",
     "output_type": "stream",
     "text": [
      "C:\\Users\\Almog\\Anaconda3\\lib\\site-packages\\sklearn\\ensemble\\weight_boosting.py:29: DeprecationWarning: numpy.core.umath_tests is an internal NumPy module and should not be imported. It will be removed in a future NumPy release.\n",
      "  from numpy.core.umath_tests import inner1d\n"
     ]
    }
   ],
   "source": [
    "from sklearn.ensemble import AdaBoostClassifier\n",
    "from sklearn.ensemble import RandomForestClassifier\n",
    "clf = AdaBoostClassifier(RandomForestClassifier(n_estimators=10, max_depth=5,random_state=1,n_jobs=-1), n_estimators=45, random_state=0)"
   ]
  },
  {
   "cell_type": "code",
   "execution_count": 64,
   "metadata": {},
   "outputs": [
    {
     "data": {
      "text/plain": [
       "AdaBoostClassifier(algorithm='SAMME.R',\n",
       "          base_estimator=RandomForestClassifier(bootstrap=True, class_weight=None, criterion='gini',\n",
       "            max_depth=5, max_features='auto', max_leaf_nodes=None,\n",
       "            min_impurity_decrease=0.0, min_impurity_split=None,\n",
       "            min_samples_leaf=1, min_samples_split=2,\n",
       "            min_weight_fraction_leaf=0.0, n_estimators=10, n_jobs=-1,\n",
       "            oob_score=False, random_state=1, verbose=0, warm_start=False),\n",
       "          learning_rate=1.0, n_estimators=45, random_state=0)"
      ]
     },
     "execution_count": 64,
     "metadata": {},
     "output_type": "execute_result"
    }
   ],
   "source": [
    "# predicting based on the test \n",
    "clf.fit(x_train, y_train)"
   ]
  },
  {
   "cell_type": "code",
   "execution_count": 65,
   "metadata": {},
   "outputs": [
    {
     "name": "stdout",
     "output_type": "stream",
     "text": [
      "49.08836135839103 %\n"
     ]
    }
   ],
   "source": [
    "# checking the percentage of success \n",
    "print(clf.score(x_test, y_test)*100,'%')"
   ]
  },
  {
   "cell_type": "code",
   "execution_count": 66,
   "metadata": {},
   "outputs": [],
   "source": [
    "# KNN"
   ]
  },
  {
   "cell_type": "code",
   "execution_count": 67,
   "metadata": {},
   "outputs": [],
   "source": [
    "# using cross validation to get the best percentage of success\n",
    "#from sklearn.neighbors import KNeighborsClassifier\n",
    "#from sklearn.cross_validation import cross_val_score\n",
    "\n",
    "#k_range = list(range(1, 61))\n",
    "#k_scores = []\n",
    "#for k in k_range:\n",
    "    #knn = KNeighborsClassifier(n_neighbors=k,weights='distance',p=1)\n",
    "    #scores = cross_val_score(knn, x_train, y_train, cv=10, scoring='accuracy')\n",
    "    #k_scores.append(scores.mean())\n",
    "#print(k_scores)"
   ]
  },
  {
   "cell_type": "code",
   "execution_count": 81,
   "metadata": {
    "scrolled": false
   },
   "outputs": [
    {
     "data": {
      "text/plain": [
       "KNeighborsClassifier(algorithm='auto', leaf_size=30, metric='minkowski',\n",
       "           metric_params=None, n_jobs=1, n_neighbors=60, p=2,\n",
       "           weights='uniform')"
      ]
     },
     "execution_count": 81,
     "metadata": {},
     "output_type": "execute_result"
    }
   ],
   "source": [
    "# using machin learning using knn model\n",
    "from sklearn.neighbors import KNeighborsClassifier\n",
    "knn = KNeighborsClassifier(n_neighbors=60)\n",
    "knn.fit(x_train, y_train)"
   ]
  },
  {
   "cell_type": "code",
   "execution_count": 82,
   "metadata": {},
   "outputs": [
    {
     "name": "stdout",
     "output_type": "stream",
     "text": [
      "['spontan' 'sync' 'spontan' ... 'sync' 'sync' 'sync']\n"
     ]
    }
   ],
   "source": [
    "# predicting based on the test \n",
    "y_pred = knn.predict(x_test)\n",
    "print (y_pred)"
   ]
  },
  {
   "cell_type": "code",
   "execution_count": 83,
   "metadata": {},
   "outputs": [
    {
     "name": "stdout",
     "output_type": "stream",
     "text": [
      "45.916584240026374 %\n"
     ]
    }
   ],
   "source": [
    "# checking the percentage of success \n",
    "from sklearn import metrics\n",
    "\n",
    "print(metrics.accuracy_score(y_test, y_pred)*100,'%')"
   ]
  }
 ],
 "metadata": {
  "kernelspec": {
   "display_name": "Python 3",
   "language": "python",
   "name": "python3"
  },
  "language_info": {
   "codemirror_mode": {
    "name": "ipython",
    "version": 3
   },
   "file_extension": ".py",
   "mimetype": "text/x-python",
   "name": "python",
   "nbconvert_exporter": "python",
   "pygments_lexer": "ipython3",
   "version": "3.7.0"
  }
 },
 "nbformat": 4,
 "nbformat_minor": 2
}
